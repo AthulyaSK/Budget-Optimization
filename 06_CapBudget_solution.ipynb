{
  "cells": [
    {
      "cell_type": "markdown",
      "metadata": {
        "id": "view-in-github",
        "colab_type": "text"
      },
      "source": [
        "<a href=\"https://colab.research.google.com/github/AthulyaSK/Budget-Optimization/blob/main/06_CapBudget_solution.ipynb\" target=\"_parent\"><img src=\"https://colab.research.google.com/assets/colab-badge.svg\" alt=\"Open In Colab\"/></a>"
      ]
    },
    {
      "cell_type": "markdown",
      "source": [
        "#Set-Up"
      ],
      "metadata": {
        "id": "hL77L3Uei59o"
      }
    },
    {
      "cell_type": "code",
      "source": [
        "#Copy-and-paste the code below to use as \"set-up\" when your optimization model uses Pyomo. \n",
        "#Uncomment the appropriate solver that you need.\n",
        "#for reference, see https://colab.research.google.com/drive/1yGk8RB5NXrcx9f1Tb-oCiWzbxh61hZLI?usp=sharing\n",
        "\n",
        "#installing and importing pyomo\n",
        "!pip install -q pyomo\n",
        "from pyomo.environ import *\n",
        "\n",
        "###installing and importing specific solvers (uncomment the one(s) you need)\n",
        "###glpk\n",
        "!apt-get install -y -qq glpk-utils\n",
        "###cbc\n",
        "#!apt-get install -y -qq coinor-cbc\n",
        "###ipopt\n",
        "#!wget -N -q \"https://ampl.com/dl/open/ipopt/ipopt-linux64.zip\"\n",
        "#!unzip -o -q ipopt-linux64\n",
        "###bonmin\n",
        "#!wget -N -q \"https://ampl.com/dl/open/bonmin/bonmin-linux64.zip\"\n",
        "#!unzip -o -q bonmin-linux64\n",
        "###couenne\n",
        "#!wget -N -q \"https://ampl.com/dl/open/couenne/couenne-linux64.zip\"\n",
        "#!unzip -o -q couenne-linux64\n",
        "###geocode\n",
        "#!wget -N -q \"https://ampl.com/dl/open/gecode/gecode-linux64.zip\"\n",
        "#!unzip -o -q gecode-linux64\n",
        "\n",
        "#Using the solvers:\n",
        "#SolverFactory('glpk', executable='/usr/bin/glpsol')\n",
        "#SolverFactory('cbc', executable='/usr/bin/cbc')\n",
        "#SolverFactory('ipopt', executable='/content/ipopt')\n",
        "#SolverFactory('bonmin', executable='/content/bonmin')\n",
        "#SolverFactory('couenne', executable='/content/couenne')\n",
        "#SolverFactory('gecode', executable='/content/gecode')"
      ],
      "metadata": {
        "id": "T3OEUrcJgiSR",
        "colab": {
          "base_uri": "https://localhost:8080/"
        },
        "outputId": "b963b64b-05f8-4192-9b6d-7a07ece9f0e8"
      },
      "execution_count": null,
      "outputs": [
        {
          "output_type": "stream",
          "name": "stdout",
          "text": [
            "\u001b[K     |████████████████████████████████| 9.7 MB 5.3 MB/s \n",
            "\u001b[K     |████████████████████████████████| 49 kB 5.4 MB/s \n",
            "\u001b[?25hSelecting previously unselected package libsuitesparseconfig5:amd64.\n",
            "(Reading database ... 123991 files and directories currently installed.)\n",
            "Preparing to unpack .../libsuitesparseconfig5_1%3a5.1.2-2_amd64.deb ...\n",
            "Unpacking libsuitesparseconfig5:amd64 (1:5.1.2-2) ...\n",
            "Selecting previously unselected package libamd2:amd64.\n",
            "Preparing to unpack .../libamd2_1%3a5.1.2-2_amd64.deb ...\n",
            "Unpacking libamd2:amd64 (1:5.1.2-2) ...\n",
            "Selecting previously unselected package libcolamd2:amd64.\n",
            "Preparing to unpack .../libcolamd2_1%3a5.1.2-2_amd64.deb ...\n",
            "Unpacking libcolamd2:amd64 (1:5.1.2-2) ...\n",
            "Selecting previously unselected package libglpk40:amd64.\n",
            "Preparing to unpack .../libglpk40_4.65-1_amd64.deb ...\n",
            "Unpacking libglpk40:amd64 (4.65-1) ...\n",
            "Selecting previously unselected package glpk-utils.\n",
            "Preparing to unpack .../glpk-utils_4.65-1_amd64.deb ...\n",
            "Unpacking glpk-utils (4.65-1) ...\n",
            "Setting up libsuitesparseconfig5:amd64 (1:5.1.2-2) ...\n",
            "Setting up libcolamd2:amd64 (1:5.1.2-2) ...\n",
            "Setting up libamd2:amd64 (1:5.1.2-2) ...\n",
            "Setting up libglpk40:amd64 (4.65-1) ...\n",
            "Setting up glpk-utils (4.65-1) ...\n",
            "Processing triggers for libc-bin (2.27-3ubuntu1.6) ...\n",
            "Processing triggers for man-db (2.8.3-2ubuntu0.1) ...\n"
          ]
        }
      ]
    },
    {
      "cell_type": "markdown",
      "source": [
        "#Capital Budgeting Problem (Base)"
      ],
      "metadata": {
        "id": "TH2KJ7OKJg33"
      }
    },
    {
      "cell_type": "code",
      "execution_count": null,
      "metadata": {
        "id": "nftn6AAjJQoH"
      },
      "outputs": [],
      "source": [
        "#Capital Budgeting Base Problem Data\n",
        "cost = [5.0,2.4,3.5,5.9,6.9,4.5,3.0]\n",
        "npv = [5.6,2.7,3.9,6.8,7.7,5.1,3.3]\n",
        "budget = 15\n",
        "n = len(cost)\n",
        "\n",
        "#define the concrete model\n",
        "model = ConcreteModel()\n",
        "\n",
        "#DVs\n",
        "model.x = Var(range(n), domain = Binary) #NOTE: This is where we restrict the decision variables to be binary (could also put things like NonNegativeIntegers)\n",
        "\n",
        "#budget constraint\n",
        "model.BudgetConstraint = Constraint(expr = sum(model.x[i]*cost[i] for i in range(n)) <= budget)\n",
        "\n",
        "#objective\n",
        "model.Objective = Objective(expr = sum(model.x[i]*npv[i] for i in range(n)), sense = maximize)"
      ]
    },
    {
      "cell_type": "code",
      "source": [
        "#solve the model\n",
        "opt = SolverFactory('glpk')\n",
        "opt.options['tmlim'] = 5 #specifies the time limit (in seconds)\n",
        "opt.options['mipgap'] = .01 #specifies the optimality gap tolerance (.01 means alg can stop if guarenteed within <1% of optimal obj)\n",
        "results = opt.solve(model, tee=True)"
      ],
      "metadata": {
        "id": "1nlGi77PJmxP",
        "colab": {
          "base_uri": "https://localhost:8080/"
        },
        "outputId": "0876f6da-ec70-453c-f79c-094dc146a2eb"
      },
      "execution_count": null,
      "outputs": [
        {
          "output_type": "stream",
          "name": "stdout",
          "text": [
            "GLPSOL: GLPK LP/MIP Solver, v4.65\n",
            "Parameter(s) specified in the command line:\n",
            " --tmlim 5 --mipgap 0.01 --write /tmp/tmpi3hu30ph.glpk.raw --wglp /tmp/tmpvrff00zt.glpk.glp\n",
            " --cpxlp /tmp/tmprgsl4wiu.pyomo.lp\n",
            "Reading problem data from '/tmp/tmprgsl4wiu.pyomo.lp'...\n",
            "/tmp/tmprgsl4wiu.pyomo.lp:37: warning: lower bound of variable 'x1' redefined\n",
            "/tmp/tmprgsl4wiu.pyomo.lp:37: warning: upper bound of variable 'x1' redefined\n",
            "2 rows, 8 columns, 8 non-zeros\n",
            "7 integer variables, all of which are binary\n",
            "44 lines were read\n",
            "Writing problem data to '/tmp/tmpvrff00zt.glpk.glp'...\n",
            "31 lines were written\n",
            "GLPK Integer Optimizer, v4.65\n",
            "2 rows, 8 columns, 8 non-zeros\n",
            "7 integer variables, all of which are binary\n",
            "Preprocessing...\n",
            "1 row, 7 columns, 7 non-zeros\n",
            "7 integer variables, all of which are binary\n",
            "Scaling...\n",
            " A: min|aij| =  2.400e+00  max|aij| =  6.900e+00  ratio =  2.875e+00\n",
            "Problem data seem to be well scaled\n",
            "Constructing initial basis...\n",
            "Size of triangular part is 1\n",
            "Solving LP relaxation...\n",
            "GLPK Simplex Optimizer, v4.65\n",
            "1 row, 7 columns, 7 non-zeros\n",
            "*     0: obj =  -0.000000000e+00 inf =   0.000e+00 (7)\n",
            "*     7: obj =   1.706400000e+01 inf =   0.000e+00 (0)\n",
            "OPTIMAL LP SOLUTION FOUND\n",
            "Integer optimization begins...\n",
            "Long-step dual simplex will be used\n",
            "+     7: mip =     not found yet <=              +inf        (1; 0)\n",
            "Solution found by heuristic: 14.6\n",
            "Solution found by heuristic: 15.1\n",
            "Solution found by heuristic: 16.3\n",
            "+    16: >>>>>   1.670000000e+01 <=   1.703898305e+01   2.0% (8; 1)\n",
            "+    22: mip =   1.670000000e+01 <=   1.682000000e+01   0.7% (2; 17)\n",
            "RELATIVE MIP GAP TOLERANCE REACHED; SEARCH TERMINATED\n",
            "Time used:   0.0 secs\n",
            "Memory used: 0.1 Mb (62981 bytes)\n",
            "Writing MIP solution to '/tmp/tmpi3hu30ph.glpk.raw'...\n",
            "19 lines were written\n"
          ]
        }
      ]
    },
    {
      "cell_type": "code",
      "source": [
        "#print out solution\n",
        "print(\"invest in options: \")\n",
        "for i in range(n):\n",
        "    if model.x[i]() == 1:\n",
        "        print(i)\n",
        "\n",
        "print(\"Total NPV:\", model.Objective())\n",
        "print(\"Total Cost:\", model.BudgetConstraint())"
      ],
      "metadata": {
        "colab": {
          "base_uri": "https://localhost:8080/"
        },
        "id": "nbpDXvfjJnlf",
        "outputId": "bde9eae2-6805-4d84-eb03-663fd8a271c3"
      },
      "execution_count": null,
      "outputs": [
        {
          "output_type": "stream",
          "name": "stdout",
          "text": [
            "invest in options: \n",
            "1\n",
            "2\n",
            "3\n",
            "6\n",
            "Total NPV: 16.7\n",
            "Total Cost: 14.8\n"
          ]
        }
      ]
    },
    {
      "cell_type": "markdown",
      "source": [
        "#A.\tYou must invest in investment 0 or 4 (or both)."
      ],
      "metadata": {
        "id": "IuUE-gfil0GY"
      }
    },
    {
      "cell_type": "code",
      "source": [
        "#Capital Budgeting Base Problem Data\n",
        "cost = [5.0,2.4,3.5,5.9,6.9,4.5,3.0]\n",
        "npv = [5.6,2.7,3.9,6.8,7.7,5.1,3.3]\n",
        "budget = 15\n",
        "n = len(cost)\n",
        "\n",
        "#define the concrete model\n",
        "model = ConcreteModel()\n",
        "\n",
        "model.x = Var(range(n), domain = Binary) #NOTE: This is where we restrict the decision variables to be binary (could also put things like NonNegativeIntegers)\n",
        "\n",
        "model.BudgetConstraint = Constraint(expr = sum(model.x[i]*cost[i] for i in range(n)) <= budget)\n",
        "model.BudgetConstraint2 = Constraint(expr = model.x[0] + model.x[4] >= 1)\n",
        "\n",
        "#objective\n",
        "model.Objective1 = Objective(expr = sum(model.x[i]*npv[i] for i in range(n)), sense = maximize)\n",
        "\n",
        "model.pprint()"
      ],
      "metadata": {
        "colab": {
          "base_uri": "https://localhost:8080/"
        },
        "id": "BZ09l0pclyTq",
        "outputId": "7f38b379-72b0-4808-c0b4-07d846c0ef5e"
      },
      "execution_count": null,
      "outputs": [
        {
          "output_type": "stream",
          "name": "stdout",
          "text": [
            "1 Set Declarations\n",
            "    x_index : Size=1, Index=None, Ordered=Insertion\n",
            "        Key  : Dimen : Domain : Size : Members\n",
            "        None :     1 :    Any :    7 : {0, 1, 2, 3, 4, 5, 6}\n",
            "\n",
            "1 Var Declarations\n",
            "    x : Size=7, Index=x_index\n",
            "        Key : Lower : Value : Upper : Fixed : Stale : Domain\n",
            "          0 :     0 :  None :     1 : False :  True : Binary\n",
            "          1 :     0 :  None :     1 : False :  True : Binary\n",
            "          2 :     0 :  None :     1 : False :  True : Binary\n",
            "          3 :     0 :  None :     1 : False :  True : Binary\n",
            "          4 :     0 :  None :     1 : False :  True : Binary\n",
            "          5 :     0 :  None :     1 : False :  True : Binary\n",
            "          6 :     0 :  None :     1 : False :  True : Binary\n",
            "\n",
            "1 Objective Declarations\n",
            "    Objective1 : Size=1, Index=None, Active=True\n",
            "        Key  : Active : Sense    : Expression\n",
            "        None :   True : maximize : 5.6*x[0] + 2.7*x[1] + 3.9*x[2] + 6.8*x[3] + 7.7*x[4] + 5.1*x[5] + 3.3*x[6]\n",
            "\n",
            "2 Constraint Declarations\n",
            "    BudgetConstraint : Size=1, Index=None, Active=True\n",
            "        Key  : Lower : Body                                                                       : Upper : Active\n",
            "        None :  -Inf : 5.0*x[0] + 2.4*x[1] + 3.5*x[2] + 5.9*x[3] + 6.9*x[4] + 4.5*x[5] + 3.0*x[6] :  15.0 :   True\n",
            "    BudgetConstraint2 : Size=1, Index=None, Active=True\n",
            "        Key  : Lower : Body        : Upper : Active\n",
            "        None :   1.0 : x[0] + x[4] :  +Inf :   True\n",
            "\n",
            "5 Declarations: x_index x BudgetConstraint BudgetConstraint2 Objective1\n"
          ]
        }
      ]
    },
    {
      "cell_type": "code",
      "source": [
        "opt = SolverFactory('glpk')\n",
        "opt.options['tmlim'] = 5 #specifies the time limit (in seconds)\n",
        "opt.options['mipgap'] = .01 #specifies the optimality gap tolerance (.01 means alg can stop if guarenteed within <1% of optimal obj)\n",
        "results = opt.solve(model, tee=True)"
      ],
      "metadata": {
        "colab": {
          "base_uri": "https://localhost:8080/"
        },
        "id": "yZiQO4i3m2jG",
        "outputId": "ee95cbf9-11f7-4830-8b39-067eae3ffc80"
      },
      "execution_count": null,
      "outputs": [
        {
          "output_type": "stream",
          "name": "stdout",
          "text": [
            "GLPSOL: GLPK LP/MIP Solver, v4.65\n",
            "Parameter(s) specified in the command line:\n",
            " --tmlim 5 --mipgap 0.01 --write /tmp/tmpstxatiey.glpk.raw --wglp /tmp/tmptfl1wf79.glpk.glp\n",
            " --cpxlp /tmp/tmp9flyq2ki.pyomo.lp\n",
            "Reading problem data from '/tmp/tmp9flyq2ki.pyomo.lp'...\n",
            "/tmp/tmp9flyq2ki.pyomo.lp:42: warning: lower bound of variable 'x1' redefined\n",
            "/tmp/tmp9flyq2ki.pyomo.lp:42: warning: upper bound of variable 'x1' redefined\n",
            "3 rows, 8 columns, 10 non-zeros\n",
            "7 integer variables, all of which are binary\n",
            "49 lines were read\n",
            "Writing problem data to '/tmp/tmptfl1wf79.glpk.glp'...\n",
            "35 lines were written\n",
            "GLPK Integer Optimizer, v4.65\n",
            "3 rows, 8 columns, 10 non-zeros\n",
            "7 integer variables, all of which are binary\n",
            "Preprocessing...\n",
            "1 hidden packing inequaliti(es) were detected\n",
            "2 rows, 7 columns, 9 non-zeros\n",
            "7 integer variables, all of which are binary\n",
            "Scaling...\n",
            " A: min|aij| =  1.000e+00  max|aij| =  6.900e+00  ratio =  6.900e+00\n",
            "Problem data seem to be well scaled\n",
            "Constructing initial basis...\n",
            "Size of triangular part is 2\n",
            "Solving LP relaxation...\n",
            "GLPK Simplex Optimizer, v4.65\n",
            "2 rows, 7 columns, 9 non-zeros\n",
            "      0: obj =  -0.000000000e+00 inf =   1.000e+00 (1)\n",
            "      1: obj =   5.600000000e+00 inf =   0.000e+00 (0)\n",
            "*     6: obj =   1.704666667e+01 inf =   0.000e+00 (0)\n",
            "OPTIMAL LP SOLUTION FOUND\n",
            "Integer optimization begins...\n",
            "Long-step dual simplex will be used\n",
            "+     6: mip =     not found yet <=              +inf        (1; 0)\n",
            "Solution found by heuristic: 15.1\n",
            "Solution found by heuristic: 16.3\n",
            "+    20: >>>>>   1.660000000e+01 <=   1.684400000e+01   1.5% (4; 8)\n",
            "+    22: >>>>>   1.670000000e+01 <=   1.682000000e+01   0.7% (4; 10)\n",
            "+    22: mip =   1.670000000e+01 <=   1.682000000e+01   0.7% (3; 11)\n",
            "RELATIVE MIP GAP TOLERANCE REACHED; SEARCH TERMINATED\n",
            "Time used:   0.0 secs\n",
            "Memory used: 0.1 Mb (63557 bytes)\n",
            "Writing MIP solution to '/tmp/tmpstxatiey.glpk.raw'...\n",
            "20 lines were written\n"
          ]
        }
      ]
    },
    {
      "cell_type": "code",
      "source": [
        "#print out solution\n",
        "print(\"invest in options: \")\n",
        "for i in range(n):\n",
        "    if model.x[i]() == 1:\n",
        "        print(i)\n",
        "\n",
        "print(\"Total NPV:\", model.Objective())\n",
        "print(\"Total Cost:\", model.BudgetConstraint())"
      ],
      "metadata": {
        "colab": {
          "base_uri": "https://localhost:8080/"
        },
        "id": "-42xSL_4m46Z",
        "outputId": "b9bae84f-de1d-498a-b6b8-34b7433f0a7f"
      },
      "execution_count": null,
      "outputs": [
        {
          "output_type": "stream",
          "name": "stdout",
          "text": [
            "invest in options: \n",
            "2\n",
            "4\n",
            "5\n",
            "Total NPV: <pyomo.core.base.block._generic_component_decorator object at 0x7fd8af7e0a50>\n",
            "Total Cost: 14.9\n"
          ]
        }
      ]
    },
    {
      "cell_type": "markdown",
      "source": [
        "#B.\tIf you invest in 0, you also have to invest in 5. You can invest in 5 without investing in 0. "
      ],
      "metadata": {
        "id": "Z0gEKTVmtDjM"
      }
    },
    {
      "cell_type": "code",
      "source": [
        "#Capital Budgeting Base Problem Data\n",
        "cost = [5.0,2.4,3.5,5.9,6.9,4.5,3.0]\n",
        "npv = [5.6,2.7,3.9,6.8,7.7,5.1,3.3]\n",
        "budget = 15\n",
        "n = len(cost)\n",
        "\n",
        "#define the concrete model\n",
        "model = ConcreteModel()\n",
        "\n",
        "model.x = Var(range(n), domain = Binary) #NOTE: This is where we restrict the decision variables to be binary (could also put things like NonNegativeIntegers)\n",
        "\n",
        "model.BudgetConstraint = Constraint(expr = sum(model.x[i]*cost[i] for i in range(n)) <= budget)\n",
        "model.BudgetConstraint2 = Constraint(expr = model.x[0] - model.x[5] <= 0)\n",
        "\n",
        "#objective\n",
        "model.Objective1 = Objective(expr = sum(model.x[i]*npv[i] for i in range(n)), sense = maximize)\n",
        "\n",
        "model.pprint()"
      ],
      "metadata": {
        "colab": {
          "base_uri": "https://localhost:8080/"
        },
        "id": "q4t_Xd3Js-nD",
        "outputId": "b4facbdb-41e6-406a-c886-b2a9caef8646"
      },
      "execution_count": null,
      "outputs": [
        {
          "output_type": "stream",
          "name": "stdout",
          "text": [
            "1 Set Declarations\n",
            "    x_index : Size=1, Index=None, Ordered=Insertion\n",
            "        Key  : Dimen : Domain : Size : Members\n",
            "        None :     1 :    Any :    7 : {0, 1, 2, 3, 4, 5, 6}\n",
            "\n",
            "1 Var Declarations\n",
            "    x : Size=7, Index=x_index\n",
            "        Key : Lower : Value : Upper : Fixed : Stale : Domain\n",
            "          0 :     0 :  None :     1 : False :  True : Binary\n",
            "          1 :     0 :  None :     1 : False :  True : Binary\n",
            "          2 :     0 :  None :     1 : False :  True : Binary\n",
            "          3 :     0 :  None :     1 : False :  True : Binary\n",
            "          4 :     0 :  None :     1 : False :  True : Binary\n",
            "          5 :     0 :  None :     1 : False :  True : Binary\n",
            "          6 :     0 :  None :     1 : False :  True : Binary\n",
            "\n",
            "1 Objective Declarations\n",
            "    Objective1 : Size=1, Index=None, Active=True\n",
            "        Key  : Active : Sense    : Expression\n",
            "        None :   True : maximize : 5.6*x[0] + 2.7*x[1] + 3.9*x[2] + 6.8*x[3] + 7.7*x[4] + 5.1*x[5] + 3.3*x[6]\n",
            "\n",
            "2 Constraint Declarations\n",
            "    BudgetConstraint : Size=1, Index=None, Active=True\n",
            "        Key  : Lower : Body                                                                       : Upper : Active\n",
            "        None :  -Inf : 5.0*x[0] + 2.4*x[1] + 3.5*x[2] + 5.9*x[3] + 6.9*x[4] + 4.5*x[5] + 3.0*x[6] :  15.0 :   True\n",
            "    BudgetConstraint2 : Size=1, Index=None, Active=True\n",
            "        Key  : Lower : Body        : Upper : Active\n",
            "        None :  -Inf : x[0] - x[5] :   0.0 :   True\n",
            "\n",
            "5 Declarations: x_index x BudgetConstraint BudgetConstraint2 Objective1\n"
          ]
        }
      ]
    },
    {
      "cell_type": "code",
      "source": [
        "opt = SolverFactory('glpk')\n",
        "opt.options['tmlim'] = 5 #specifies the time limit (in seconds)\n",
        "opt.options['mipgap'] = .01 #specifies the optimality gap tolerance (.01 means alg can stop if guarenteed within <1% of optimal obj)\n",
        "results = opt.solve(model, tee=True)"
      ],
      "metadata": {
        "colab": {
          "base_uri": "https://localhost:8080/"
        },
        "id": "_A5BYxBE-z1a",
        "outputId": "5cc87bc1-f44e-4c53-c087-4291be423ada"
      },
      "execution_count": null,
      "outputs": [
        {
          "output_type": "stream",
          "name": "stdout",
          "text": [
            "GLPSOL: GLPK LP/MIP Solver, v4.65\n",
            "Parameter(s) specified in the command line:\n",
            " --tmlim 5 --mipgap 0.01 --write /tmp/tmpu4a5wf6z.glpk.raw --wglp /tmp/tmp55b4y6z9.glpk.glp\n",
            " --cpxlp /tmp/tmp510arpxl.pyomo.lp\n",
            "Reading problem data from '/tmp/tmp510arpxl.pyomo.lp'...\n",
            "/tmp/tmp510arpxl.pyomo.lp:42: warning: lower bound of variable 'x1' redefined\n",
            "/tmp/tmp510arpxl.pyomo.lp:42: warning: upper bound of variable 'x1' redefined\n",
            "3 rows, 8 columns, 10 non-zeros\n",
            "7 integer variables, all of which are binary\n",
            "49 lines were read\n",
            "Writing problem data to '/tmp/tmp55b4y6z9.glpk.glp'...\n",
            "35 lines were written\n",
            "GLPK Integer Optimizer, v4.65\n",
            "3 rows, 8 columns, 10 non-zeros\n",
            "7 integer variables, all of which are binary\n",
            "Preprocessing...\n",
            "2 rows, 7 columns, 9 non-zeros\n",
            "7 integer variables, all of which are binary\n",
            "Scaling...\n",
            " A: min|aij| =  1.000e+00  max|aij| =  6.900e+00  ratio =  6.900e+00\n",
            "Problem data seem to be well scaled\n",
            "Constructing initial basis...\n",
            "Size of triangular part is 2\n",
            "Solving LP relaxation...\n",
            "GLPK Simplex Optimizer, v4.65\n",
            "2 rows, 7 columns, 9 non-zeros\n",
            "*     0: obj =  -0.000000000e+00 inf =   0.000e+00 (7)\n",
            "*     7: obj =   1.706400000e+01 inf =   0.000e+00 (0)\n",
            "OPTIMAL LP SOLUTION FOUND\n",
            "Integer optimization begins...\n",
            "Long-step dual simplex will be used\n",
            "+     7: mip =     not found yet <=              +inf        (1; 0)\n",
            "Solution found by heuristic: 14.6\n",
            "Solution found by heuristic: 15.8\n",
            "+    13: >>>>>   1.670000000e+01 <=   1.702000000e+01   1.9% (5; 1)\n",
            "+    17: mip =   1.670000000e+01 <=   1.682000000e+01   0.7% (3; 9)\n",
            "RELATIVE MIP GAP TOLERANCE REACHED; SEARCH TERMINATED\n",
            "Time used:   0.0 secs\n",
            "Memory used: 0.1 Mb (63557 bytes)\n",
            "Writing MIP solution to '/tmp/tmpu4a5wf6z.glpk.raw'...\n",
            "20 lines were written\n"
          ]
        }
      ]
    },
    {
      "cell_type": "code",
      "source": [
        "#print out solution\n",
        "print(\"invest in options: \")\n",
        "for i in range(n):\n",
        "    if model.x[i]() == 1:\n",
        "        print(i)\n",
        "\n",
        "print(\"Total NPV:\", model.Objective())\n",
        "print(\"Total Cost:\", model.BudgetConstraint())"
      ],
      "metadata": {
        "colab": {
          "base_uri": "https://localhost:8080/"
        },
        "id": "mEl75YtO-2xE",
        "outputId": "8bb4d5d0-8d12-43f2-a4aa-60e3b171699f"
      },
      "execution_count": null,
      "outputs": [
        {
          "output_type": "stream",
          "name": "stdout",
          "text": [
            "invest in options: \n",
            "1\n",
            "2\n",
            "3\n",
            "6\n",
            "Total NPV: <pyomo.core.base.block._generic_component_decorator object at 0x7f02dd738490>\n",
            "Total Cost: 14.8\n"
          ]
        }
      ]
    }
  ],
  "metadata": {
    "@webio": {
      "lastCommId": null,
      "lastKernelId": null
    },
    "kernelspec": {
      "display_name": "Python 3",
      "language": "python",
      "name": "python3"
    },
    "language_info": {
      "codemirror_mode": {
        "name": "ipython",
        "version": 3
      },
      "file_extension": ".py",
      "mimetype": "text/x-python",
      "name": "python",
      "nbconvert_exporter": "python",
      "pygments_lexer": "ipython3",
      "version": "3.8.8"
    },
    "colab": {
      "provenance": [],
      "include_colab_link": true
    }
  },
  "nbformat": 4,
  "nbformat_minor": 0
}